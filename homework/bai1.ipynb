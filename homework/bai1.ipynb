{
  "nbformat": 4,
  "nbformat_minor": 0,
  "metadata": {
    "colab": {
      "name": "bai1.ipynb",
      "provenance": [],
      "collapsed_sections": []
    },
    "kernelspec": {
      "name": "python3",
      "display_name": "Python 3"
    }
  },
  "cells": [
    {
      "cell_type": "code",
      "metadata": {
        "colab": {
          "base_uri": "https://localhost:8080/"
        },
        "id": "h5suUP6z8t3G",
        "outputId": "d630a66d-53f9-424b-f65e-14e4295268be"
      },
      "source": [
        "#cau1\n",
        "data = '''\n",
        "Come to the\n",
        "River\n",
        "Of my\n",
        "Soulful\n",
        "Sentiments\n",
        "Meandering silently\n",
        "Yearning for release.\n",
        "Hasten\n",
        "Earnestly\n",
        "As my love flows by\n",
        "Rushing through the flood-gates\n",
        "To your heart.\n",
        "'''\n",
        "print(' '.join(map(lambda i: i.split()[0], data.strip().split('\\n'))))\n"
      ],
      "execution_count": null,
      "outputs": [
        {
          "output_type": "stream",
          "text": [
            "Come River Of Soulful Sentiments Meandering Yearning Hasten Earnestly As Rushing To\n"
          ],
          "name": "stdout"
        }
      ]
    },
    {
      "cell_type": "code",
      "metadata": {
        "colab": {
          "base_uri": "https://localhost:8080/"
        },
        "id": "CKMnsySa8TCG",
        "outputId": "6577885e-7f38-4545-9127-800c25853884"
      },
      "source": [
        "#cau2\n",
        "sum(int(digit) for digit in str(2**10000))"
      ],
      "execution_count": null,
      "outputs": [
        {
          "output_type": "execute_result",
          "data": {
            "text/plain": [
              "13561"
            ]
          },
          "metadata": {
            "tags": []
          },
          "execution_count": 5
        }
      ]
    },
    {
      "cell_type": "code",
      "metadata": {
        "colab": {
          "base_uri": "https://localhost:8080/"
        },
        "id": "2f6QrY4G_HtS",
        "outputId": "d0c6a1f3-2be7-4187-bd6e-a0b149f06a33"
      },
      "source": [
        "#cau3\n",
        "lyric= '''Ngư60ời 'theo hư@ơng' hoa 100mây mù [giăng lối]\n",
        "Làn 25 sương khó30i phôi phai 90 đưa bư$ớc ai xa rồi 35\n",
        "100Đơn c#ôi m99ình ta {vấn vương} hồi ức tro^ng ... men say (chiều mưa) buồ80n \n",
        "Ng~ăn \"giọt lệ\" ngừng k2hiến khoé mi sầu bi.1'''\n",
        "\n",
        "import string\n",
        "for c in lyric:\n",
        "    if c in string.punctuation or c in string.digits:\n",
        "      lyric = lyric.replace(c,\"\")\n",
        "print(lyric)"
      ],
      "execution_count": null,
      "outputs": [
        {
          "output_type": "stream",
          "text": [
            "Người theo hương hoa mây mù giăng lối\n",
            "Làn  sương khói phôi phai  đưa bước ai xa rồi \n",
            "Đơn côi mình ta vấn vương hồi ức trong  men say chiều mưa buồn \n",
            "Ngăn giọt lệ ngừng khiến khoé mi sầu bi\n"
          ],
          "name": "stdout"
        }
      ]
    },
    {
      "cell_type": "code",
      "metadata": {
        "id": "hz7ZtMB4TgGH"
      },
      "source": [
        "#cau4\n"
      ],
      "execution_count": null,
      "outputs": []
    },
    {
      "cell_type": "code",
      "metadata": {
        "id": "HUNBzGqHTd8Q",
        "colab": {
          "base_uri": "https://localhost:8080/"
        },
        "outputId": "4f6c5ab5-b17b-444c-d915-ebb43fcd6783"
      },
      "source": [
        "#cau5\n",
        "def evalute_word(s):\n",
        "    return sum(map(lambda i: ord(i) - 96, s))\n",
        "words = 'python, patience, documents, students, homework, practice, success, english, university, congratulation'.split(', ')\n",
        "for w in words:\n",
        "    print(w + ':', evalute_word(w))"
      ],
      "execution_count": null,
      "outputs": [
        {
          "output_type": "stream",
          "text": [
            "python: 98\n",
            "patience: 73\n",
            "documents: 114\n",
            "students: 122\n",
            "homework: 108\n",
            "practice: 75\n",
            "success: 89\n",
            "english: 74\n",
            "university: 162\n",
            "congratulation: 170\n"
          ],
          "name": "stdout"
        }
      ]
    },
    {
      "cell_type": "code",
      "metadata": {
        "colab": {
          "base_uri": "https://localhost:8080/"
        },
        "id": "KRkrh2s1EwTn",
        "outputId": "8ae5d9ec-8afa-41c7-e438-16b40fa41e21"
      },
      "source": [
        "#cau6\n",
        "fibo = []\n",
        "x1 = 0\n",
        "x2 = 1\n",
        "x3 = x1+x2\n",
        "while x3 < 1000:\n",
        "  fibo.append(x3)\n",
        "  x3 = x1 + x2\n",
        "  x1 = x2\n",
        "  x2 = x3\n",
        "print(fibo)\n"
      ],
      "execution_count": null,
      "outputs": [
        {
          "output_type": "stream",
          "text": [
            "[1, 1, 2, 3, 5, 8, 13, 21, 34, 55, 89, 144, 233, 377, 610, 987]\n"
          ],
          "name": "stdout"
        }
      ]
    },
    {
      "cell_type": "code",
      "metadata": {
        "colab": {
          "base_uri": "https://localhost:8080/"
        },
        "id": "WT_cufeZGkSY",
        "outputId": "185b5e98-8d07-4bff-bd81-fafdb623d797"
      },
      "source": [
        "#cau7\n",
        "import math\n",
        "list = []\n",
        "for x in range(2,1000):\n",
        "    k=0\n",
        "    for i in range(1,round(math.sqrt(x))+1):\n",
        "        if x%i == 0:\n",
        "            k = k+1\n",
        "    if k<2:\n",
        "      list.append(x)\n",
        "print(list)"
      ],
      "execution_count": null,
      "outputs": [
        {
          "output_type": "stream",
          "text": [
            "[2, 3, 5, 7, 11, 13, 17, 19, 23, 29, 31, 37, 41, 43, 47, 53, 59, 61, 67, 71, 73, 79, 83, 89, 97, 101, 103, 107, 109, 113, 127, 131, 137, 139, 149, 151, 157, 163, 167, 173, 179, 181, 191, 193, 197, 199, 211, 223, 227, 229, 233, 239, 241, 251, 257, 263, 269, 271, 277, 281, 283, 293, 307, 311, 313, 317, 331, 337, 347, 349, 353, 359, 367, 373, 379, 383, 389, 397, 401, 409, 419, 421, 431, 433, 439, 443, 449, 457, 461, 463, 467, 479, 487, 491, 499, 503, 509, 521, 523, 541, 547, 557, 563, 569, 571, 577, 587, 593, 599, 601, 607, 613, 617, 619, 631, 641, 643, 647, 653, 659, 661, 673, 677, 683, 691, 701, 709, 719, 727, 733, 739, 743, 751, 757, 761, 769, 773, 787, 797, 809, 811, 821, 823, 827, 829, 839, 853, 857, 859, 863, 877, 881, 883, 887, 907, 911, 919, 929, 937, 941, 947, 953, 967, 971, 977, 983, 991, 997]\n"
          ],
          "name": "stdout"
        }
      ]
    },
    {
      "cell_type": "code",
      "metadata": {
        "id": "emb6BFodTUCn",
        "colab": {
          "base_uri": "https://localhost:8080/"
        },
        "outputId": "3ed68208-592d-47e3-f0b2-25e1a5366515"
      },
      "source": [
        "#cau8\n",
        "text = '''Python is an easy to learn, powerful programming language. It has efficient high-level data structures and a simple but effective approach to object-oriented programming. Python’s elegant syntax and dynamic typing, together with its interpreted nature, make it an ideal language for scripting and rapid application development in many areas on most platforms.\n",
        "The Python interpreter and the extensive standard library are freely available in source or binary form for all major platforms from the Python Web site, https://www.python.org/, and may be freely distributed. The same site also contains distributions of and pointers to many free third party Python modules, programs and tools, and additional documentation.\n",
        "The Python interpreter is easily extended with new functions and data types implemented in C or C++ (or other languages callable from C). Python is also suitable as an extension language for customizable applications.\n",
        "This tutorial introduces the reader informally to the basic concepts and features of the Python language and system. It helps to have a Python interpreter handy for hands-on experience, but all examples are self-contained, so the tutorial can be read off-line as well.\n",
        "For a description of standard objects and modules, see The Python Standard Library. The Python Language Reference gives a more formal definition of the language. To write extensions in C or C++, read Extending and Embedding the Python Interpreter and Python/C API Reference Manual. There are also several books covering Python in depth.\n",
        "This tutorial does not attempt to be comprehensive and cover every single feature, or even every commonly used feature. Instead, it introduces many of Python’s most noteworthy features, and will give you a good idea of the language’s flavor and style. After reading it, you will be able to read and write Python modules and programs, and you will be ready to learn more about the various Python library modules described in The Python Standard Library.'''\n",
        "\n",
        "from collections import Counter\n",
        "{w: c for w, c in Counter(text.lower().split()).most_common(10)}"
      ],
      "execution_count": null,
      "outputs": [
        {
          "output_type": "execute_result",
          "data": {
            "text/plain": [
              "{'a': 5,\n",
              " 'and': 20,\n",
              " 'be': 5,\n",
              " 'for': 5,\n",
              " 'in': 6,\n",
              " 'it': 4,\n",
              " 'of': 6,\n",
              " 'python': 15,\n",
              " 'the': 16,\n",
              " 'to': 9}"
            ]
          },
          "metadata": {
            "tags": []
          },
          "execution_count": 2
        }
      ]
    },
    {
      "cell_type": "code",
      "metadata": {
        "colab": {
          "base_uri": "https://localhost:8080/"
        },
        "id": "_9g7DIkxSIYa",
        "outputId": "58763452-dcf0-48c7-98d2-cc869878656a"
      },
      "source": [
        "#cau9\n",
        "A = set([1, 2, 3, 4, 5, 6])\n",
        "B = set([3, 4, 5, 6, 7, 8, 9, 10])\n",
        "\n",
        "print(\"Có trong cả A, B: \", A & B)\n",
        "print(\"Chỉ có trong A: \", A - B)\n",
        "print(\"Chỉ có trong B: \", B - A)\n",
        "print(\"Không có trong cả A và B: \", A-B | B-A)"
      ],
      "execution_count": null,
      "outputs": [
        {
          "output_type": "stream",
          "text": [
            "Có trong cả A, B:  {3, 4, 5, 6}\n",
            "Chỉ có trong A:  {1, 2}\n",
            "Chỉ có trong B:  {8, 9, 10, 7}\n",
            "Không có trong cả A và B:  {1, 2, 7, 8, 9, 10}\n"
          ],
          "name": "stdout"
        }
      ]
    },
    {
      "cell_type": "code",
      "metadata": {
        "colab": {
          "base_uri": "https://localhost:8080/"
        },
        "id": "05OZQtujKo1E",
        "outputId": "130b4a76-bdd5-49a2-b93d-8f9419194ab9"
      },
      "source": [
        "#bt10\n",
        "can = 'Canh Tân Nhâm Quý Giáp Ất Bính Đinh Mậu Kỷ'.split()\n",
        "chi = 'Tý Sửu Dần Mão Thìn Tỵ Ngọ Mùi Thân Dậu Tuất Hợi'.split()\n",
        "from itertools import cycle\n",
        "list(zip(range(1900, 2020), [can + ' ' + chi for can, chi in zip(can * 12, cycle(chi))]))\n",
        "\n",
        "\n"
      ],
      "execution_count": null,
      "outputs": [
        {
          "output_type": "execute_result",
          "data": {
            "text/plain": [
              "[(1900, 'Canh Tý'),\n",
              " (1901, 'Tân Sửu'),\n",
              " (1902, 'Nhâm Dần'),\n",
              " (1903, 'Quý Mão'),\n",
              " (1904, 'Giáp Thìn'),\n",
              " (1905, 'Ất Tỵ'),\n",
              " (1906, 'Bính Ngọ'),\n",
              " (1907, 'Đinh Mùi'),\n",
              " (1908, 'Mậu Thân'),\n",
              " (1909, 'Kỷ Dậu'),\n",
              " (1910, 'Canh Tuất'),\n",
              " (1911, 'Tân Hợi'),\n",
              " (1912, 'Nhâm Tý'),\n",
              " (1913, 'Quý Sửu'),\n",
              " (1914, 'Giáp Dần'),\n",
              " (1915, 'Ất Mão'),\n",
              " (1916, 'Bính Thìn'),\n",
              " (1917, 'Đinh Tỵ'),\n",
              " (1918, 'Mậu Ngọ'),\n",
              " (1919, 'Kỷ Mùi'),\n",
              " (1920, 'Canh Thân'),\n",
              " (1921, 'Tân Dậu'),\n",
              " (1922, 'Nhâm Tuất'),\n",
              " (1923, 'Quý Hợi'),\n",
              " (1924, 'Giáp Tý'),\n",
              " (1925, 'Ất Sửu'),\n",
              " (1926, 'Bính Dần'),\n",
              " (1927, 'Đinh Mão'),\n",
              " (1928, 'Mậu Thìn'),\n",
              " (1929, 'Kỷ Tỵ'),\n",
              " (1930, 'Canh Ngọ'),\n",
              " (1931, 'Tân Mùi'),\n",
              " (1932, 'Nhâm Thân'),\n",
              " (1933, 'Quý Dậu'),\n",
              " (1934, 'Giáp Tuất'),\n",
              " (1935, 'Ất Hợi'),\n",
              " (1936, 'Bính Tý'),\n",
              " (1937, 'Đinh Sửu'),\n",
              " (1938, 'Mậu Dần'),\n",
              " (1939, 'Kỷ Mão'),\n",
              " (1940, 'Canh Thìn'),\n",
              " (1941, 'Tân Tỵ'),\n",
              " (1942, 'Nhâm Ngọ'),\n",
              " (1943, 'Quý Mùi'),\n",
              " (1944, 'Giáp Thân'),\n",
              " (1945, 'Ất Dậu'),\n",
              " (1946, 'Bính Tuất'),\n",
              " (1947, 'Đinh Hợi'),\n",
              " (1948, 'Mậu Tý'),\n",
              " (1949, 'Kỷ Sửu'),\n",
              " (1950, 'Canh Dần'),\n",
              " (1951, 'Tân Mão'),\n",
              " (1952, 'Nhâm Thìn'),\n",
              " (1953, 'Quý Tỵ'),\n",
              " (1954, 'Giáp Ngọ'),\n",
              " (1955, 'Ất Mùi'),\n",
              " (1956, 'Bính Thân'),\n",
              " (1957, 'Đinh Dậu'),\n",
              " (1958, 'Mậu Tuất'),\n",
              " (1959, 'Kỷ Hợi'),\n",
              " (1960, 'Canh Tý'),\n",
              " (1961, 'Tân Sửu'),\n",
              " (1962, 'Nhâm Dần'),\n",
              " (1963, 'Quý Mão'),\n",
              " (1964, 'Giáp Thìn'),\n",
              " (1965, 'Ất Tỵ'),\n",
              " (1966, 'Bính Ngọ'),\n",
              " (1967, 'Đinh Mùi'),\n",
              " (1968, 'Mậu Thân'),\n",
              " (1969, 'Kỷ Dậu'),\n",
              " (1970, 'Canh Tuất'),\n",
              " (1971, 'Tân Hợi'),\n",
              " (1972, 'Nhâm Tý'),\n",
              " (1973, 'Quý Sửu'),\n",
              " (1974, 'Giáp Dần'),\n",
              " (1975, 'Ất Mão'),\n",
              " (1976, 'Bính Thìn'),\n",
              " (1977, 'Đinh Tỵ'),\n",
              " (1978, 'Mậu Ngọ'),\n",
              " (1979, 'Kỷ Mùi'),\n",
              " (1980, 'Canh Thân'),\n",
              " (1981, 'Tân Dậu'),\n",
              " (1982, 'Nhâm Tuất'),\n",
              " (1983, 'Quý Hợi'),\n",
              " (1984, 'Giáp Tý'),\n",
              " (1985, 'Ất Sửu'),\n",
              " (1986, 'Bính Dần'),\n",
              " (1987, 'Đinh Mão'),\n",
              " (1988, 'Mậu Thìn'),\n",
              " (1989, 'Kỷ Tỵ'),\n",
              " (1990, 'Canh Ngọ'),\n",
              " (1991, 'Tân Mùi'),\n",
              " (1992, 'Nhâm Thân'),\n",
              " (1993, 'Quý Dậu'),\n",
              " (1994, 'Giáp Tuất'),\n",
              " (1995, 'Ất Hợi'),\n",
              " (1996, 'Bính Tý'),\n",
              " (1997, 'Đinh Sửu'),\n",
              " (1998, 'Mậu Dần'),\n",
              " (1999, 'Kỷ Mão'),\n",
              " (2000, 'Canh Thìn'),\n",
              " (2001, 'Tân Tỵ'),\n",
              " (2002, 'Nhâm Ngọ'),\n",
              " (2003, 'Quý Mùi'),\n",
              " (2004, 'Giáp Thân'),\n",
              " (2005, 'Ất Dậu'),\n",
              " (2006, 'Bính Tuất'),\n",
              " (2007, 'Đinh Hợi'),\n",
              " (2008, 'Mậu Tý'),\n",
              " (2009, 'Kỷ Sửu'),\n",
              " (2010, 'Canh Dần'),\n",
              " (2011, 'Tân Mão'),\n",
              " (2012, 'Nhâm Thìn'),\n",
              " (2013, 'Quý Tỵ'),\n",
              " (2014, 'Giáp Ngọ'),\n",
              " (2015, 'Ất Mùi'),\n",
              " (2016, 'Bính Thân'),\n",
              " (2017, 'Đinh Dậu'),\n",
              " (2018, 'Mậu Tuất'),\n",
              " (2019, 'Kỷ Hợi')]"
            ]
          },
          "metadata": {
            "tags": []
          },
          "execution_count": 3
        }
      ]
    },
    {
      "cell_type": "markdown",
      "metadata": {
        "id": "OoS_-kVDTkpY"
      },
      "source": [
        ""
      ]
    }
  ]
}